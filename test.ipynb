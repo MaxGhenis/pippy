{
 "cells": [
  {
   "cell_type": "code",
   "execution_count": 1,
   "metadata": {},
   "outputs": [
    {
     "name": "stdout",
     "output_type": "stream",
     "text": [
      "Request URL: https://api.worldbank.org/pip/v1/pip\n",
      "Request params: {'country': 'ALB', 'year': 'all', 'povline': 2.15, 'fill_gaps': False, 'welfare_type': 'all', 'reporting_level': 'all', 'format': 'json', 'cache_key': 'stats_ALB_all_2.15_all_all_None_None_None', 'endpoint': 'pip', 'url': 'https://api.worldbank.org/pip/v1/pip'}\n",
      "Response status code: 200\n",
      "Response headers: {'Date': 'Sat, 24 Aug 2024 15:49:18 GMT', 'Content-Length': '283', 'Connection': 'keep-alive', 'set-cookie': 'api_https.cookieCORS=76a6c6567ab12cea5dac4942d8df71cc; Path=/; SameSite=None; Secure, api_https.cookie=76a6c6567ab12cea5dac4942d8df71cc; Path=/, __cf_bm=uOz8_MAioqCyygP4mquFeffVMz8xhFROFjeVKQVaU_s-1724514558-1.0.1.1-jWVZ23ibBYPBAvVjfOglPEm.cYxSGzZ6EIJ1JJZOmlw92KcyGWPJmG_RDF2G1wp1mbNkQE1ORzFb81BSn1D0xQ; path=/; expires=Sat, 24-Aug-24 16:19:18 GMT; domain=.worldbank.org; HttpOnly; Secure; SameSite=None', 'CF-Cache-Status': 'DYNAMIC', 'Server': 'cloudflare', 'CF-RAY': '8b847dc36eef385b-LHR'}\n",
      "Raw response content: \n",
      "        <html>\n",
      "            <head>\n",
      "            <title>Server Error</title>\n",
      "        </head>\n",
      "            <body>\n",
      "The server has encountered an error which prevents it from fulfilling your request. Please contact the system administrator.\n",
      "            </body>\n",
      "            </html>\n",
      "        ...\n",
      "An error occurred: API returned an HTML error page. The service may be experiencing issues.\n"
     ]
    }
   ],
   "source": [
    "import pippy\n",
    "\n",
    "try:\n",
    "    df = pippy.get_stats(country=\"ALB\", debug=True)\n",
    "    print(df.head())\n",
    "except pippy.PIPAPIError as e:\n",
    "    print(f\"An error occurred: {str(e)}\")"
   ]
  },
  {
   "cell_type": "code",
   "execution_count": null,
   "metadata": {},
   "outputs": [],
   "source": []
  }
 ],
 "metadata": {
  "kernelspec": {
   "display_name": ".venv",
   "language": "python",
   "name": "python3"
  },
  "language_info": {
   "codemirror_mode": {
    "name": "ipython",
    "version": 3
   },
   "file_extension": ".py",
   "mimetype": "text/x-python",
   "name": "python",
   "nbconvert_exporter": "python",
   "pygments_lexer": "ipython3",
   "version": "3.12.4"
  }
 },
 "nbformat": 4,
 "nbformat_minor": 2
}
