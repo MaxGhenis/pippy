{
 "cells": [
  {
   "cell_type": "code",
   "execution_count": 1,
   "metadata": {},
   "outputs": [
    {
     "name": "stderr",
     "output_type": "stream",
     "text": [
      "pippy - DEBUG - Debug mode enabled\n",
      "pippy - DEBUG - Request URL: https://api.worldbank.org/pip/v1/pip\n",
      "pippy - DEBUG - Request params: {'country': 'ALB', 'year': 'ALL', 'welfare_type': 'all', 'reporting_level': 'all', 'format': 'json'}\n",
      "pippy - DEBUG - Response status code: 200\n",
      "pippy - DEBUG - Response headers: {'Date': 'Sat, 24 Aug 2024 16:04:29 GMT', 'Content-Type': 'application/json', 'Transfer-Encoding': 'chunked', 'Connection': 'keep-alive', 'set-cookie': 'api_https.cookieCORS=76a6c6567ab12cea5dac4942d8df71cc; Path=/; SameSite=None; Secure, api_https.cookie=76a6c6567ab12cea5dac4942d8df71cc; Path=/, __cf_bm=R72gYvvR7lFk84QTsWaRh943DyfycY3glj.adPMcnU8-1724515469-1.0.1.1-aAWJf1v3.BGE4aTTmEpabZ.TAD.AZm9oEspKLCTU.Vxp36Yh5OWQ2hoR2JT3ogke_QV19yeeLWoyIM2luqdcVg; path=/; expires=Sat, 24-Aug-24 16:34:29 GMT; domain=.worldbank.org; HttpOnly; Secure; SameSite=None', 'Cache-Control': 'no-store, must-revalidate, no-cache', 'pragma': 'no-cache', 'Content-Encoding': 'gzip', 'expires': 'Sat, 24 Aug 2024 16:04:29 GMT', 'etag': '21551170dd8ad2b89d580540652f1720', 'strict-transport-security': 'max-age=63072000; includeSubDomains; preload', 'content-security-policy': \"default-src *  data: blob: filesystem: about: ws: wss: 'unsafe-inline' 'unsafe-eval' 'unsafe-dynamic'; script-src * data: blob: 'unsafe-inline' 'unsafe-eval'; connect-src * data: blob: 'unsafe-inline'; img-src * data: blob: 'unsafe-inline'; frame-src * data: blob: ; style-src * data: blob: 'unsafe-inline'; font-src * data: blob: 'unsafe-inline';\", 'x-frame-options': 'SAMEORIGIN', 'x-content-type-options': 'nosniff', 'referrer-policy': 'no-referrer', 'access-control-allow-origin': '*', 'request-context': 'appId=cid-v1:da002513-bd8b-4441-9f30-737944134422', 'CF-Cache-Status': 'DYNAMIC', 'Server': 'cloudflare', 'CF-RAY': '8b8493e46a424185-LHR'}\n",
      "pippy - DEBUG - Raw response content: [{\"region_name\":\"Europe & Central Asia\",\"region_code\":\"ECA\",\"country_name\":\"Albania\",\"country_code\":\"ALB\",\"reporting_year\":1996,\"reporting_level\":\"national\",\"survey_acronym\":\"EWS\",\"survey_coverage\":\"national\",\"survey_year\":1996,\"welfare_type\":\"consumption\",\"survey_comparability\":0,\"comparable_spell\":\"1996\",\"poverty_line\":2.15,\"headcount\":0.0053,\"poverty_gap\":0.001,\"poverty_severity\":0.0003,\"watts\":0.0012,\"mean\":7.9332,\"median\":6.9721,\"mld\":0.1191,\"gini\":0.2701,\"polarization\":0.2413,\"decile1\":0.0386,\"decile2\":0.0529,\"decile3\":0.0638,\"decile4\":0.0732,\"decile5\":0.0838,\"decile6\":0.0935,\"decile7\":0.1082,\"decile8\":0.1247,\"decile9\":0.149,\"decile10\":0.2122,\"cpi\":0.3996,\"ppp\":50.3574,\"reporting_pop\":3168033,\"reporting_gdp\":1633.552,\"reporting_pce\":1716.3368,\"is_interpolated\":false,\"distribution_type\":\"micro\",\"estimation_type\":\"survey\",\"spl\":4.6361,\"spr\":0.1952},{\"region_name\":\"Europe & Central Asia\",\"region_code\":\"ECA\",\"country_name\":\"Albania\",\"country_code\":\"ALB\",\"reporting_year\":2002,\"reporti...\n"
     ]
    },
    {
     "name": "stdout",
     "output_type": "stream",
     "text": [
      "             region_name region_code country_name country_code  \\\n",
      "0  Europe & Central Asia         ECA      Albania          ALB   \n",
      "1  Europe & Central Asia         ECA      Albania          ALB   \n",
      "2  Europe & Central Asia         ECA      Albania          ALB   \n",
      "3  Europe & Central Asia         ECA      Albania          ALB   \n",
      "4  Europe & Central Asia         ECA      Albania          ALB   \n",
      "\n",
      "   reporting_year reporting_level survey_acronym survey_coverage  survey_year  \\\n",
      "0            1996        national            EWS        national         1996   \n",
      "1            2002        national           LSMS        national         2002   \n",
      "2            2005        national           LSMS        national         2005   \n",
      "3            2008        national           LSMS        national         2008   \n",
      "4            2012        national           LSMS        national         2012   \n",
      "\n",
      "  welfare_type  ...     cpi      ppp  reporting_pop  reporting_gdp  \\\n",
      "0  consumption  ...  0.3996  50.3574        3168033      1633.5520   \n",
      "1  consumption  ...  0.7016  50.3574        3051010      2247.4981   \n",
      "2  consumption  ...  0.7540  50.3574        3011487      2675.5086   \n",
      "3  consumption  ...  0.8201  50.3574        2947314      3298.4789   \n",
      "4  consumption  ...  0.9172  50.3574        2900401      3736.3401   \n",
      "\n",
      "   reporting_pce  is_interpolated  distribution_type  estimation_type     spl  \\\n",
      "0      1716.3368            False              micro           survey  4.6361   \n",
      "1      1685.2031            False              micro           survey  4.4941   \n",
      "2      2079.2035            False              micro           survey  5.0499   \n",
      "3      2820.2795            False              micro           survey  5.3501   \n",
      "4      2990.3966            False              micro           survey  5.2702   \n",
      "\n",
      "      spr  \n",
      "0  0.1952  \n",
      "1  0.2129  \n",
      "2  0.2004  \n",
      "3  0.1690  \n",
      "4  0.1828  \n",
      "\n",
      "[5 rows x 42 columns]\n"
     ]
    }
   ],
   "source": [
    "import pippy\n",
    "\n",
    "try:\n",
    "    df = pippy.get_stats(country=\"ALB\", debug=True)\n",
    "    print(df.head())\n",
    "except pippy.PIPAPIError as e:\n",
    "    print(f\"An error occurred: {str(e)}\")"
   ]
  },
  {
   "cell_type": "code",
   "execution_count": null,
   "metadata": {},
   "outputs": [],
   "source": []
  }
 ],
 "metadata": {
  "kernelspec": {
   "display_name": ".venv",
   "language": "python",
   "name": "python3"
  },
  "language_info": {
   "codemirror_mode": {
    "name": "ipython",
    "version": 3
   },
   "file_extension": ".py",
   "mimetype": "text/x-python",
   "name": "python",
   "nbconvert_exporter": "python",
   "pygments_lexer": "ipython3",
   "version": "3.12.4"
  }
 },
 "nbformat": 4,
 "nbformat_minor": 2
}
